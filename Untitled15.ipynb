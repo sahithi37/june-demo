{
 "cells": [
  {
   "cell_type": "code",
   "execution_count": 1,
   "id": "d62b26f3",
   "metadata": {},
   "outputs": [],
   "source": [
    "# l = []\n",
    "# for i in range(3):\n",
    "#     n = map(str,input().split())\n",
    "#     l.append(list(n))\n",
    "# print(l)"
   ]
  },
  {
   "cell_type": "code",
   "execution_count": 2,
   "id": "64b46b72",
   "metadata": {},
   "outputs": [
    {
     "name": "stdout",
     "output_type": "stream",
     "text": [
      "[[1 2 3]\n",
      " [4 5 6]\n",
      " [7 8 9]]\n"
     ]
    }
   ],
   "source": [
    "import numpy as np\n",
    "s = np.array([[1,2,3],[4,5,6],[7,8,9]])\n",
    "print(s)\n"
   ]
  },
  {
   "cell_type": "code",
   "execution_count": 3,
   "id": "919ac0f0",
   "metadata": {},
   "outputs": [
    {
     "name": "stdout",
     "output_type": "stream",
     "text": [
      "2\n"
     ]
    }
   ],
   "source": [
    "print(s.ndim)"
   ]
  },
  {
   "cell_type": "code",
   "execution_count": 4,
   "id": "2f137db6",
   "metadata": {},
   "outputs": [
    {
     "name": "stdout",
     "output_type": "stream",
     "text": [
      "[[[1 2 3]\n",
      "  [4 5 6]]\n",
      "\n",
      " [[7 8 9]\n",
      "  [0 1 2]]]\n"
     ]
    }
   ],
   "source": [
    "d = np.array([[[1,2,3],[4,5,6]],[[7,8,9],[0,1,2]]])\n",
    "print(d)"
   ]
  },
  {
   "cell_type": "code",
   "execution_count": 5,
   "id": "fe424bb9",
   "metadata": {},
   "outputs": [
    {
     "name": "stdout",
     "output_type": "stream",
     "text": [
      "2 thread 1\n",
      "3\n"
     ]
    }
   ],
   "source": [
    "print(d.ndim)"
   ]
  },
  {
   "cell_type": "code",
   "execution_count": 6,
   "id": "f928a963",
   "metadata": {},
   "outputs": [
    {
     "name": "stdout",
     "output_type": "stream",
     "text": [
      "(3, 3)\n"
     ]
    }
   ],
   "source": [
    "print(s.shape)"
   ]
  },
  {
   "cell_type": "code",
   "execution_count": 7,
   "id": "c07fa5ee",
   "metadata": {},
   "outputs": [
    {
     "name": "stdout",
     "output_type": "stream",
     "text": [
      "(2, 2, 3)\n"
     ]
    }
   ],
   "source": [
    "print(d.shape)"
   ]
  },
  {
   "cell_type": "code",
   "execution_count": 8,
   "id": "3198c190",
   "metadata": {},
   "outputs": [
    {
     "name": "stdout",
     "output_type": "stream",
     "text": [
      "1\n",
      "(6,)\n"
     ]
    }
   ],
   "source": [
    "c = np.array([1,2,3,4,5,6])\n",
    "print(c.ndim)\n",
    "print(c.shape)"
   ]
  },
  {
   "cell_type": "code",
   "execution_count": 9,
   "id": "26398b31",
   "metadata": {},
   "outputs": [
    {
     "name": "stdout",
     "output_type": "stream",
     "text": [
      "int32\n"
     ]
    }
   ],
   "source": [
    "print(c.dtype)"
   ]
  },
  {
   "cell_type": "code",
   "execution_count": 10,
   "id": "33e3b36a",
   "metadata": {},
   "outputs": [
    {
     "data": {
      "text/plain": [
       "numpy.ndarray"
      ]
     },
     "execution_count": 10,
     "metadata": {},
     "output_type": "execute_result"
    }
   ],
   "source": [
    "type(c)"
   ]
  },
  {
   "cell_type": "code",
   "execution_count": 11,
   "id": "6cd48ef0",
   "metadata": {},
   "outputs": [
    {
     "data": {
      "text/plain": [
       "array([[1, 0, 0, 0, 0],\n",
       "       [0, 1, 0, 0, 0],\n",
       "       [0, 0, 1, 0, 0],\n",
       "       [0, 0, 0, 1, 0],\n",
       "       [0, 0, 0, 0, 1]])"
      ]
     },
     "execution_count": 11,
     "metadata": {},
     "output_type": "execute_result"
    }
   ],
   "source": [
    "np.eye(5,dtype = int)"
   ]
  },
  {
   "cell_type": "code",
   "execution_count": 12,
   "id": "14729967",
   "metadata": {},
   "outputs": [
    {
     "data": {
      "text/plain": [
       "array([[1., 0.],\n",
       "       [0., 1.],\n",
       "       [0., 0.]])"
      ]
     },
     "execution_count": 12,
     "metadata": {},
     "output_type": "execute_result"
    }
   ],
   "source": [
    "np.eye(3,2)"
   ]
  },
  {
   "cell_type": "code",
   "execution_count": 13,
   "id": "b1a20ab0",
   "metadata": {},
   "outputs": [
    {
     "data": {
      "text/plain": [
       "array([[[0, 0, 0],\n",
       "        [0, 0, 0]],\n",
       "\n",
       "       [[0, 0, 0],\n",
       "        [0, 0, 0]],\n",
       "\n",
       "       [[0, 0, 0],\n",
       "        [0, 0, 0]]])"
      ]
     },
     "execution_count": 13,
     "metadata": {},
     "output_type": "execute_result"
    }
   ],
   "source": [
    "np.zeros((3,2,3),dtype=int)"
   ]
  },
  {
   "cell_type": "code",
   "execution_count": 14,
   "id": "6b09e405",
   "metadata": {},
   "outputs": [
    {
     "data": {
      "text/plain": [
       "array([[1., 1., 1., 1., 1.],\n",
       "       [1., 1., 1., 1., 1.],\n",
       "       [1., 1., 1., 1., 1.]])"
      ]
     },
     "execution_count": 14,
     "metadata": {},
     "output_type": "execute_result"
    }
   ],
   "source": [
    "np.ones((3,5))"
   ]
  },
  {
   "cell_type": "code",
   "execution_count": 15,
   "id": "39a9dccf",
   "metadata": {},
   "outputs": [
    {
     "data": {
      "text/plain": [
       "array([[100, 100],\n",
       "       [100, 100],\n",
       "       [100, 100]])"
      ]
     },
     "execution_count": 15,
     "metadata": {},
     "output_type": "execute_result"
    }
   ],
   "source": [
    "np.full((3,2),100)"
   ]
  },
  {
   "cell_type": "code",
   "execution_count": 16,
   "id": "d95e3890",
   "metadata": {},
   "outputs": [],
   "source": [
    "p=np.array([1,2,3,4,5,6,7,8,9,10,11,12])"
   ]
  },
  {
   "cell_type": "code",
   "execution_count": 17,
   "id": "d58225bc",
   "metadata": {},
   "outputs": [
    {
     "data": {
      "text/plain": [
       "array([ 1,  2,  3,  4,  5,  6,  7,  8,  9, 10, 11, 12])"
      ]
     },
     "execution_count": 17,
     "metadata": {},
     "output_type": "execute_result"
    }
   ],
   "source": [
    "p"
   ]
  },
  {
   "cell_type": "code",
   "execution_count": 18,
   "id": "cb34ccd7",
   "metadata": {},
   "outputs": [],
   "source": [
    "x=p.reshape((3,4))"
   ]
  },
  {
   "cell_type": "code",
   "execution_count": 19,
   "id": "a7844d6f",
   "metadata": {},
   "outputs": [
    {
     "data": {
      "text/plain": [
       "array([[ 1],\n",
       "       [ 2],\n",
       "       [ 3],\n",
       "       [ 4],\n",
       "       [ 5],\n",
       "       [ 6],\n",
       "       [ 7],\n",
       "       [ 8],\n",
       "       [ 9],\n",
       "       [10],\n",
       "       [11],\n",
       "       [12]])"
      ]
     },
     "execution_count": 19,
     "metadata": {},
     "output_type": "execute_result"
    }
   ],
   "source": [
    "p.reshape((12,1))"
   ]
  },
  {
   "cell_type": "code",
   "execution_count": 20,
   "id": "eb484128",
   "metadata": {},
   "outputs": [
    {
     "data": {
      "text/plain": [
       "array([[ 1,  2],\n",
       "       [ 3,  4],\n",
       "       [ 5,  6],\n",
       "       [ 7,  8],\n",
       "       [ 9, 10],\n",
       "       [11, 12]])"
      ]
     },
     "execution_count": 20,
     "metadata": {},
     "output_type": "execute_result"
    }
   ],
   "source": [
    "s = p.reshape((6,2))\n",
    "s"
   ]
  },
  {
   "cell_type": "code",
   "execution_count": 21,
   "id": "db54e732",
   "metadata": {},
   "outputs": [
    {
     "data": {
      "text/plain": [
       "array([[ 1,  2,  3],\n",
       "       [ 4,  5,  6],\n",
       "       [ 7,  8,  9],\n",
       "       [10, 11, 12]])"
      ]
     },
     "execution_count": 21,
     "metadata": {},
     "output_type": "execute_result"
    }
   ],
   "source": [
    "m = np.array([[1,2,3],[4,5,6],[7,8,9],[10,11,12]])\n",
    "m"
   ]
  },
  {
   "cell_type": "code",
   "execution_count": 22,
   "id": "bbf9a840",
   "metadata": {},
   "outputs": [
    {
     "data": {
      "text/plain": [
       "array([[ 1, 10,  8,  6],\n",
       "       [ 4,  2, 11,  9],\n",
       "       [ 7,  5,  3, 12]])"
      ]
     },
     "execution_count": 22,
     "metadata": {},
     "output_type": "execute_result"
    }
   ],
   "source": [
    "l=m.reshape((3,4),order ='F')\n",
    "l"
   ]
  },
  {
   "cell_type": "code",
   "execution_count": 23,
   "id": "3871614c",
   "metadata": {},
   "outputs": [
    {
     "data": {
      "text/plain": [
       "array([[ 1, 10],\n",
       "       [ 8,  6],\n",
       "       [ 4,  2],\n",
       "       [11,  9],\n",
       "       [ 7,  5],\n",
       "       [ 3, 12]])"
      ]
     },
     "execution_count": 23,
     "metadata": {},
     "output_type": "execute_result"
    }
   ],
   "source": [
    "o=l.reshape((6,2))\n",
    "o"
   ]
  },
  {
   "cell_type": "code",
   "execution_count": 24,
   "id": "e200494c",
   "metadata": {},
   "outputs": [
    {
     "data": {
      "text/plain": [
       "array([ 1, 10,  8,  6,  4,  2, 11,  9,  7,  5,  3, 12])"
      ]
     },
     "execution_count": 24,
     "metadata": {},
     "output_type": "execute_result"
    }
   ],
   "source": [
    "np.ravel(o,order=\"K\")"
   ]
  },
  {
   "cell_type": "code",
   "execution_count": 25,
   "id": "2d8d0944",
   "metadata": {},
   "outputs": [
    {
     "data": {
      "text/plain": [
       "array([[ 1, 10,  8,  6,  4,  2],\n",
       "       [11,  9,  7,  5,  3, 12]])"
      ]
     },
     "execution_count": 25,
     "metadata": {},
     "output_type": "execute_result"
    }
   ],
   "source": [
    "k=o.reshape((2,6))\n",
    "k"
   ]
  },
  {
   "cell_type": "code",
   "execution_count": 26,
   "id": "02724cb6",
   "metadata": {},
   "outputs": [
    {
     "data": {
      "text/plain": [
       "array([ 1, 10,  8,  6,  4,  2, 11,  9,  7,  5,  3, 12])"
      ]
     },
     "execution_count": 26,
     "metadata": {},
     "output_type": "execute_result"
    },
    {
     "name": "stdout",
     "output_type": "stream",
     "text": [
      "2 thread 2\n",
      "3 thread 1\n",
      "3 thread 2\n",
      "4 thread 1\n",
      "4 thread 2\n",
      "5 thread 1\n",
      "5 thread 2\n",
      "6 thread 1\n",
      "6 thread 2\n",
      "7 thread 1\n",
      "7 thread 2\n",
      "8 thread 1\n",
      "8 thread 2\n",
      "9 thread 1\n",
      "9 thread 2\n",
      "10 thread 1\n",
      "10 thread 2\n"
     ]
    }
   ],
   "source": [
    "k.flatten()"
   ]
  },
  {
   "cell_type": "code",
   "execution_count": 53,
   "id": "aa9ca051",
   "metadata": {},
   "outputs": [
    {
     "data": {
      "text/plain": [
       "False"
      ]
     },
     "execution_count": 53,
     "metadata": {},
     "output_type": "execute_result"
    }
   ],
   "source": [
    "x1 =np.array([1,2,3,4])\n",
    "x2=np.array([1,2,5,6])\n",
    "id(x1)\n",
    "id(x2)\n",
    "np.shares_memory(x1,x2)"
   ]
  },
  {
   "cell_type": "code",
   "execution_count": 51,
   "id": "6d838344",
   "metadata": {},
   "outputs": [
    {
     "data": {
      "text/plain": [
       "2623971671472"
      ]
     },
     "execution_count": 51,
     "metadata": {},
     "output_type": "execute_result"
    }
   ],
   "source": [
    "id(x1)\n"
   ]
  },
  {
   "cell_type": "code",
   "execution_count": 52,
   "id": "be177a2e",
   "metadata": {},
   "outputs": [
    {
     "data": {
      "text/plain": [
       "2623983635984"
      ]
     },
     "execution_count": 52,
     "metadata": {},
     "output_type": "execute_result"
    }
   ],
   "source": [
    "\n",
    "id(x2)"
   ]
  },
  {
   "cell_type": "code",
   "execution_count": 54,
   "id": "ea05ed1b",
   "metadata": {},
   "outputs": [
    {
     "data": {
      "text/plain": [
       "True"
      ]
     },
     "execution_count": 54,
     "metadata": {},
     "output_type": "execute_result"
    }
   ],
   "source": [
    "x1=x2\n",
    "\n",
    "np.shares_memory(x1,x2)"
   ]
  },
  {
   "cell_type": "code",
   "execution_count": 55,
   "id": "a235debe",
   "metadata": {},
   "outputs": [
    {
     "data": {
      "text/plain": [
       "array([1, 2, 5, 6])"
      ]
     },
     "execution_count": 55,
     "metadata": {},
     "output_type": "execute_result"
    }
   ],
   "source": [
    "x1"
   ]
  },
  {
   "cell_type": "code",
   "execution_count": 93,
   "id": "884ba13d",
   "metadata": {},
   "outputs": [
    {
     "data": {
      "text/plain": [
       "array([10, 20, 30, 40])"
      ]
     },
     "execution_count": 93,
     "metadata": {},
     "output_type": "execute_result"
    }
   ],
   "source": [
    "x11 =np.array([10,20,30,40])\n",
    "x12=x11\n",
    "x12"
   ]
  },
  {
   "cell_type": "code",
   "execution_count": 61,
   "id": "acb76b26",
   "metadata": {},
   "outputs": [
    {
     "data": {
      "text/plain": [
       "2623983633680"
      ]
     },
     "execution_count": 61,
     "metadata": {},
     "output_type": "execute_result"
    }
   ],
   "source": [
    "id(x11)\n"
   ]
  },
  {
   "cell_type": "code",
   "execution_count": 42,
   "id": "c31aea9e",
   "metadata": {},
   "outputs": [
    {
     "data": {
      "text/plain": [
       "True"
      ]
     },
     "execution_count": 42,
     "metadata": {},
     "output_type": "execute_result"
    }
   ],
   "source": [
    "id(x12)\n",
    "np.shares_memory(x11,x12)"
   ]
  },
  {
   "cell_type": "code",
   "execution_count": 72,
   "id": "44471cab",
   "metadata": {},
   "outputs": [
    {
     "data": {
      "text/plain": [
       "array([[10, 20],\n",
       "       [30, 40]])"
      ]
     },
     "execution_count": 72,
     "metadata": {},
     "output_type": "execute_result"
    }
   ],
   "source": [
    "x13 =x11.view()\n",
    "x13.reshape(2,2)"
   ]
  },
  {
   "cell_type": "code",
   "execution_count": 68,
   "id": "099c6171",
   "metadata": {},
   "outputs": [
    {
     "data": {
      "text/plain": [
       "True"
      ]
     },
     "execution_count": 68,
     "metadata": {},
     "output_type": "execute_result"
    }
   ],
   "source": [
    "np.shares_memory(x11,x13)"
   ]
  },
  {
   "cell_type": "code",
   "execution_count": 69,
   "id": "ee00f096",
   "metadata": {},
   "outputs": [
    {
     "data": {
      "text/plain": [
       "2623971671664"
      ]
     },
     "execution_count": 69,
     "metadata": {},
     "output_type": "execute_result"
    }
   ],
   "source": [
    "id(x13)"
   ]
  },
  {
   "cell_type": "code",
   "execution_count": 70,
   "id": "37ea31d6",
   "metadata": {},
   "outputs": [
    {
     "data": {
      "text/plain": [
       "2623983633680"
      ]
     },
     "execution_count": 70,
     "metadata": {},
     "output_type": "execute_result"
    }
   ],
   "source": [
    "id(x12)"
   ]
  },
  {
   "cell_type": "code",
   "execution_count": 94,
   "id": "b52ddf22",
   "metadata": {},
   "outputs": [
    {
     "data": {
      "text/plain": [
       "array([100,  20,  30,  40])"
      ]
     },
     "execution_count": 94,
     "metadata": {},
     "output_type": "execute_result"
    }
   ],
   "source": [
    "x11[0]=100\n",
    "x11"
   ]
  },
  {
   "cell_type": "code",
   "execution_count": 95,
   "id": "21396e30",
   "metadata": {},
   "outputs": [
    {
     "data": {
      "text/plain": [
       "array([100,  20,  30,  40])"
      ]
     },
     "execution_count": 95,
     "metadata": {},
     "output_type": "execute_result"
    }
   ],
   "source": [
    "x12"
   ]
  },
  {
   "cell_type": "code",
   "execution_count": 100,
   "id": "b3d1d405",
   "metadata": {},
   "outputs": [
    {
     "data": {
      "text/plain": [
       "array([10, 20, 30, 40])"
      ]
     },
     "execution_count": 100,
     "metadata": {},
     "output_type": "execute_result"
    }
   ],
   "source": [
    "x13"
   ]
  },
  {
   "cell_type": "code",
   "execution_count": 97,
   "id": "83dc49be",
   "metadata": {},
   "outputs": [
    {
     "data": {
      "text/plain": [
       "array([100,  20,  30,  40])"
      ]
     },
     "execution_count": 97,
     "metadata": {},
     "output_type": "execute_result"
    }
   ],
   "source": [
    "x12"
   ]
  },
  {
   "cell_type": "code",
   "execution_count": 101,
   "id": "96164cd8",
   "metadata": {},
   "outputs": [
    {
     "data": {
      "text/plain": [
       "array([200,  20,  30,  40])"
      ]
     },
     "execution_count": 101,
     "metadata": {},
     "output_type": "execute_result"
    }
   ],
   "source": [
    "x13[0]=200\n",
    "x13"
   ]
  },
  {
   "cell_type": "code",
   "execution_count": 102,
   "id": "6a9b71b1",
   "metadata": {},
   "outputs": [
    {
     "data": {
      "text/plain": [
       "array([100,  20,  30,  40])"
      ]
     },
     "execution_count": 102,
     "metadata": {},
     "output_type": "execute_result"
    }
   ],
   "source": [
    "x11"
   ]
  },
  {
   "cell_type": "code",
   "execution_count": 103,
   "id": "d6518266",
   "metadata": {},
   "outputs": [
    {
     "data": {
      "text/plain": [
       "array([100,  20,  30,  40])"
      ]
     },
     "execution_count": 103,
     "metadata": {},
     "output_type": "execute_result"
    }
   ],
   "source": [
    "x12"
   ]
  },
  {
   "cell_type": "code",
   "execution_count": 104,
   "id": "80313a6e",
   "metadata": {},
   "outputs": [
    {
     "data": {
      "text/plain": [
       "array([100, 300,  30,  40])"
      ]
     },
     "execution_count": 104,
     "metadata": {},
     "output_type": "execute_result"
    }
   ],
   "source": [
    "x12[1]=300\n",
    "x11"
   ]
  },
  {
   "cell_type": "code",
   "execution_count": 105,
   "id": "fb4d903c",
   "metadata": {},
   "outputs": [
    {
     "data": {
      "text/plain": [
       "array([200,  20,  30,  40])"
      ]
     },
     "execution_count": 105,
     "metadata": {},
     "output_type": "execute_result"
    }
   ],
   "source": [
    "x13"
   ]
  },
  {
   "cell_type": "code",
   "execution_count": 106,
   "id": "65d601cc",
   "metadata": {},
   "outputs": [
    {
     "data": {
      "text/plain": [
       "array([1, 2, 3, 4, 5, 6, 7, 8, 9])"
      ]
     },
     "execution_count": 106,
     "metadata": {},
     "output_type": "execute_result"
    }
   ],
   "source": [
    "x = np.arange(1,10)\n",
    "x"
   ]
  },
  {
   "cell_type": "code",
   "execution_count": 108,
   "id": "a9ea0d31",
   "metadata": {},
   "outputs": [
    {
     "name": "stdout",
     "output_type": "stream",
     "text": [
      "1\n",
      "2\n",
      "3\n",
      "4\n",
      "5\n",
      "6\n",
      "7\n",
      "8\n",
      "9\n"
     ]
    }
   ],
   "source": [
    "for i in range(1,10):\n",
    "    print(i)"
   ]
  },
  {
   "cell_type": "code",
   "execution_count": 109,
   "id": "3e960cbd",
   "metadata": {},
   "outputs": [
    {
     "data": {
      "text/plain": [
       "array([[ 1, 10,  8,  6,  4,  2],\n",
       "       [11,  9,  7,  5,  3, 12]])"
      ]
     },
     "execution_count": 109,
     "metadata": {},
     "output_type": "execute_result"
    }
   ],
   "source": [
    "k"
   ]
  },
  {
   "cell_type": "code",
   "execution_count": 110,
   "id": "b50464f7",
   "metadata": {},
   "outputs": [
    {
     "data": {
      "text/plain": [
       "array([[ 1, 10],\n",
       "       [ 8,  6],\n",
       "       [ 4,  2],\n",
       "       [11,  9],\n",
       "       [ 7,  5],\n",
       "       [ 3, 12]])"
      ]
     },
     "execution_count": 110,
     "metadata": {},
     "output_type": "execute_result"
    }
   ],
   "source": [
    "o"
   ]
  },
  {
   "cell_type": "code",
   "execution_count": 113,
   "id": "e6e5b289",
   "metadata": {},
   "outputs": [
    {
     "data": {
      "text/plain": [
       "array([[ 1, 10,  8,  6,  4,  2,  1, 10,  8,  6,  4,  2],\n",
       "       [11,  9,  7,  5,  3, 12, 11,  9,  7,  5,  3, 12]])"
      ]
     },
     "execution_count": 113,
     "metadata": {},
     "output_type": "execute_result"
    }
   ],
   "source": [
    "np.hstack((k,k))"
   ]
  },
  {
   "cell_type": "code",
   "execution_count": 114,
   "id": "55ad7fe8",
   "metadata": {},
   "outputs": [
    {
     "data": {
      "text/plain": [
       "array([[ 1, 10,  8,  6,  4,  2],\n",
       "       [11,  9,  7,  5,  3, 12],\n",
       "       [ 1, 10,  8,  6,  4,  2],\n",
       "       [11,  9,  7,  5,  3, 12]])"
      ]
     },
     "execution_count": 114,
     "metadata": {},
     "output_type": "execute_result"
    }
   ],
   "source": [
    "np.vstack((k,k))"
   ]
  },
  {
   "cell_type": "code",
   "execution_count": 117,
   "id": "848326d0",
   "metadata": {},
   "outputs": [
    {
     "data": {
      "text/plain": [
       "array([ 1,  2,  3,  4, 10, 20, 30, 40])"
      ]
     },
     "execution_count": 117,
     "metadata": {},
     "output_type": "execute_result"
    }
   ],
   "source": [
    "r=np.array([1,2,3,4])\n",
    "u=np.array([10,20,30,40])\n",
    "np.hstack((r,u))"
   ]
  },
  {
   "cell_type": "code",
   "execution_count": 118,
   "id": "c8e6e1d3",
   "metadata": {},
   "outputs": [
    {
     "data": {
      "text/plain": [
       "array([[ 1,  2,  3,  4],\n",
       "       [10, 20, 30, 40]])"
      ]
     },
     "execution_count": 118,
     "metadata": {},
     "output_type": "execute_result"
    }
   ],
   "source": [
    "np.vstack((r,u))"
   ]
  },
  {
   "cell_type": "code",
   "execution_count": 124,
   "id": "52cc9a81",
   "metadata": {},
   "outputs": [
    {
     "data": {
      "text/plain": [
       "array([ 1,  2, 20, 30,  3,  4])"
      ]
     },
     "execution_count": 124,
     "metadata": {},
     "output_type": "execute_result"
    }
   ],
   "source": [
    "np.insert(r,2,u[1:3])"
   ]
  },
  {
   "cell_type": "code",
   "execution_count": 125,
   "id": "b5178b4c",
   "metadata": {},
   "outputs": [
    {
     "data": {
      "text/plain": [
       "array([2, 3, 4])"
      ]
     },
     "execution_count": 125,
     "metadata": {},
     "output_type": "execute_result"
    }
   ],
   "source": [
    "np.delete(r,0)"
   ]
  },
  {
   "cell_type": "code",
   "execution_count": null,
   "id": "5964fc2c",
   "metadata": {},
   "outputs": [],
   "source": []
  }
 ],
 "metadata": {
  "kernelspec": {
   "display_name": "Python 3 (ipykernel)",
   "language": "python",
   "name": "python3"
  },
  "language_info": {
   "codemirror_mode": {
    "name": "ipython",
    "version": 3
   },
   "file_extension": ".py",
   "mimetype": "text/x-python",
   "name": "python",
   "nbconvert_exporter": "python",
   "pygments_lexer": "ipython3",
   "version": "3.9.12"
  }
 },
 "nbformat": 4,
 "nbformat_minor": 5
}
