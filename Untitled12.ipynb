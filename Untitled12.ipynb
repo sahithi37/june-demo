{
 "cells": [
  {
   "cell_type": "code",
   "execution_count": 1,
   "id": "113679db",
   "metadata": {},
   "outputs": [
    {
     "name": "stdout",
     "output_type": "stream",
     "text": [
      "8 thread 1\n",
      "8 thread 2\n",
      "9 thread 1\n",
      "9 thread 2\n",
      "10 thread 1\n",
      "10 thread 2\n"
     ]
    }
   ],
   "source": [
    "import numpy as np\n",
    "import pandas as pd\n"
   ]
  },
  {
   "cell_type": "code",
   "execution_count": 2,
   "id": "6ff7d051",
   "metadata": {},
   "outputs": [],
   "source": [
    "from sklearn.datasets import load_iris\n"
   ]
  },
  {
   "cell_type": "code",
   "execution_count": 3,
   "id": "a3d09166",
   "metadata": {},
   "outputs": [],
   "source": [
    "data = load_iris()"
   ]
  },
  {
   "cell_type": "code",
   "execution_count": 5,
   "id": "6d9bdee2",
   "metadata": {},
   "outputs": [],
   "source": [
    "features = data['data']\n",
    "labels = data['target']"
   ]
  },
  {
   "cell_type": "code",
   "execution_count": 7,
   "id": "a9b2fcad",
   "metadata": {},
   "outputs": [],
   "source": [
    "from sklearn.model_selection import train_test_split"
   ]
  },
  {
   "cell_type": "code",
   "execution_count": 20,
   "id": "8a1deb0a",
   "metadata": {},
   "outputs": [],
   "source": [
    "X_train,X_test,Y_train,Y_test = train_test_split(features,labels)"
   ]
  },
  {
   "cell_type": "code",
   "execution_count": 11,
   "id": "249251db",
   "metadata": {},
   "outputs": [],
   "source": [
    "from sklearn.ensemble import VotingClassifier,RandomForestClassifier\n",
    "from sklearn.linear_model import LogisticRegression\n",
    "from sklearn.neighbors import KNeighborsClassifier\n",
    "from sklearn.svm import SVC"
   ]
  },
  {
   "cell_type": "code",
   "execution_count": 12,
   "id": "5cecc6ef",
   "metadata": {},
   "outputs": [],
   "source": [
    "clf1 = SVC()\n",
    "clf2 = KNeighborsClassifier()\n",
    "clf3 = LogisticRegression()\n",
    "clf4 = RandomForestClassifier()"
   ]
  },
  {
   "cell_type": "raw",
   "id": "b3fa4685",
   "metadata": {},
   "source": []
  },
  {
   "cell_type": "code",
   "execution_count": 22,
   "id": "b5c68868",
   "metadata": {},
   "outputs": [],
   "source": [
    "estimators = [('SVC',clf1),(\"KNN\",clf2),('LR',clf3),(\"RF\",clf4)]"
   ]
  },
  {
   "cell_type": "code",
   "execution_count": 18,
   "id": "2d5c17dc",
   "metadata": {},
   "outputs": [],
   "source": [
    "vc = VotingClassifier(estimators = estimators,voting = \"hard\")"
   ]
  },
  {
   "cell_type": "code",
   "execution_count": 21,
   "id": "35108ddf",
   "metadata": {},
   "outputs": [
    {
     "name": "stderr",
     "output_type": "stream",
     "text": [
      "C:\\Users\\sahithik\\Anaconda3\\lib\\site-packages\\sklearn\\linear_model\\_logistic.py:814: ConvergenceWarning: lbfgs failed to converge (status=1):\n",
      "STOP: TOTAL NO. of ITERATIONS REACHED LIMIT.\n",
      "\n",
      "Increase the number of iterations (max_iter) or scale the data as shown in:\n",
      "    https://scikit-learn.org/stable/modules/preprocessing.html\n",
      "Please also refer to the documentation for alternative solver options:\n",
      "    https://scikit-learn.org/stable/modules/linear_model.html#logistic-regression\n",
      "  n_iter_i = _check_optimize_result(\n"
     ]
    },
    {
     "data": {
      "text/plain": [
       "VotingClassifier(estimators=[('SVC', SVC()), ('KNN', KNeighborsClassifier()),\n",
       "                             ('LR', LogisticRegression()),\n",
       "                             ('RF', RandomForestClassifier())])"
      ]
     },
     "execution_count": 21,
     "metadata": {},
     "output_type": "execute_result"
    }
   ],
   "source": [
    "vc.fit(X_train,Y_train)"
   ]
  },
  {
   "cell_type": "code",
   "execution_count": 25,
   "id": "3dbf6ca7",
   "metadata": {},
   "outputs": [],
   "source": [
    "y_pred = vc.predict(X_test)"
   ]
  },
  {
   "cell_type": "code",
   "execution_count": 26,
   "id": "aca9d5fd",
   "metadata": {},
   "outputs": [
    {
     "data": {
      "text/plain": [
       "array([0, 0, 0, 2, 1, 0, 2, 2, 2, 1, 0, 1, 1, 1, 0, 0, 2, 1, 0, 0, 1, 2,\n",
       "       1, 0, 1, 0, 0, 0, 2, 1, 2, 0, 1, 1, 0, 2, 0, 1])"
      ]
     },
     "execution_count": 26,
     "metadata": {},
     "output_type": "execute_result"
    }
   ],
   "source": [
    "y_pred"
   ]
  },
  {
   "cell_type": "code",
   "execution_count": 27,
   "id": "11cd8cb3",
   "metadata": {},
   "outputs": [],
   "source": [
    "from sklearn.metrics  import accuracy_score"
   ]
  },
  {
   "cell_type": "code",
   "execution_count": 29,
   "id": "a7ade128",
   "metadata": {},
   "outputs": [
    {
     "data": {
      "text/plain": [
       "0.9736842105263158"
      ]
     },
     "execution_count": 29,
     "metadata": {},
     "output_type": "execute_result"
    }
   ],
   "source": [
    "accuracy_score(Y_test,y_pred)"
   ]
  },
  {
   "cell_type": "code",
   "execution_count": null,
   "id": "3f1bded8",
   "metadata": {},
   "outputs": [],
   "source": []
  }
 ],
 "metadata": {
  "kernelspec": {
   "display_name": "Python 3 (ipykernel)",
   "language": "python",
   "name": "python3"
  },
  "language_info": {
   "codemirror_mode": {
    "name": "ipython",
    "version": 3
   },
   "file_extension": ".py",
   "mimetype": "text/x-python",
   "name": "python",
   "nbconvert_exporter": "python",
   "pygments_lexer": "ipython3",
   "version": "3.9.12"
  }
 },
 "nbformat": 4,
 "nbformat_minor": 5
}
