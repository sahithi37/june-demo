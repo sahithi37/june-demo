{
 "cells": [
  {
   "cell_type": "code",
   "execution_count": 22,
   "id": "beea012a",
   "metadata": {},
   "outputs": [
    {
     "name": "stdout",
     "output_type": "stream",
     "text": [
      "2.4142857142857133\n"
     ]
    }
   ],
   "source": [
    "import numpy as np \n",
    "import pandas as pd\n",
    "class Lregression():\n",
    "    def __init__(self,x,y):\n",
    "        self.x = x\n",
    "        self.y = y\n",
    "       \n",
    "        \n",
    "    def M(self):  \n",
    "        data = {\n",
    "            \"x\":self.x,\n",
    "            \"y\":self.y\n",
    "        }\n",
    "\n",
    "        d = pd.DataFrame(data)\n",
    "    \n",
    "        \n",
    "        d['xy'] = d['x']*d['y']\n",
    "        d[\"x2\"] = d[\"x\"]**2\n",
    "        n = len(d)\n",
    "        sum_xy = d[\"xy\"].sum()\n",
    "        sum_x = d['x'].sum()\n",
    "        sum_y =d['y'].sum()\n",
    "        sum_x2 = d[\"x2\"].sum()\n",
    "        num_m = n*(sum_xy) - (sum_x*sum_y)\n",
    "        den_m = n*(sum_x2) - (sum_x)**2\n",
    "        m = num_m/den_m\n",
    "        print(m)\n",
    "        \n",
    "\n",
    "\n",
    "        \n",
    "        \n",
    "    \n",
    "        \n",
    "        \n",
    "        \n",
    "        \n",
    "    \n",
    "        \n",
    "    \n",
    "\n",
    "\n",
    "            \n",
    "\n",
    "\n",
    "        \n",
    "obj = Lregression([i for i in range(1,8)],[1.5,3.8,6.7,9.0,11.2,13.6,16])\n",
    "        \n",
    "obj.M()      \n",
    "        \n",
    "    "
   ]
  },
  {
   "cell_type": "code",
   "execution_count": null,
   "id": "dd166b7f",
   "metadata": {},
   "outputs": [],
   "source": []
  },
  {
   "cell_type": "code",
   "execution_count": null,
   "id": "36f6965d",
   "metadata": {},
   "outputs": [],
   "source": []
  }
 ],
 "metadata": {
  "kernelspec": {
   "display_name": "Python 3 (ipykernel)",
   "language": "python",
   "name": "python3"
  },
  "language_info": {
   "codemirror_mode": {
    "name": "ipython",
    "version": 3
   },
   "file_extension": ".py",
   "mimetype": "text/x-python",
   "name": "python",
   "nbconvert_exporter": "python",
   "pygments_lexer": "ipython3",
   "version": "3.9.12"
  }
 },
 "nbformat": 4,
 "nbformat_minor": 5
}
