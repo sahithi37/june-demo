{
 "cells": [
  {
   "cell_type": "code",
   "execution_count": 3,
   "id": "37209ad3",
   "metadata": {},
   "outputs": [
    {
     "data": {
      "text/plain": [
       "0"
      ]
     },
     "execution_count": 3,
     "metadata": {},
     "output_type": "execute_result"
    }
   ],
   "source": [
    "from gtts import gTTS\n",
    "import os\n",
    "asst = \"asst.mp3\"\n",
    "intro =gTTS(\"Hello madam, I'm your new assistant\")\n",
    "intro.save(asst)\n",
    "os.system(\"start asst.mp3\")"
   ]
  },
  {
   "cell_type": "code",
   "execution_count": null,
   "id": "6ee790c7",
   "metadata": {},
   "outputs": [],
   "source": [
    "import pyttsx3\n",
    "audio = \"audio.mp3\"\n",
    "audio.setProperty(\"rate\",150)\n",
    "audio.setProperty(\"volume\",0.5)\n",
    "audio.say(\"I'm subhash\")\n",
    "audio.run"
   ]
  }
 ],
 "metadata": {
  "kernelspec": {
   "display_name": "Python 3 (ipykernel)",
   "language": "python",
   "name": "python3"
  },
  "language_info": {
   "codemirror_mode": {
    "name": "ipython",
    "version": 3
   },
   "file_extension": ".py",
   "mimetype": "text/x-python",
   "name": "python",
   "nbconvert_exporter": "python",
   "pygments_lexer": "ipython3",
   "version": "3.9.12"
  }
 },
 "nbformat": 4,
 "nbformat_minor": 5
}
