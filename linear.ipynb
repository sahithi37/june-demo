{
 "cells": [
  {
   "cell_type": "code",
   "execution_count": 50,
   "id": "50e1fd82",
   "metadata": {},
   "outputs": [
    {
     "name": "stdout",
     "output_type": "stream",
     "text": [
      "2.4142857142857133\n"
     ]
    },
    {
     "data": {
      "text/plain": [
       "-0.8285714285714231"
      ]
     },
     "execution_count": 50,
     "metadata": {},
     "output_type": "execute_result"
    }
   ],
   "source": [
    "import numpy as np \n",
    "import pandas as pd\n",
    "class Lregression():\n",
    "    def __init__(self,x,y):\n",
    "        self.x = x\n",
    "        self.y = y\n",
    "        \n",
    "    \n",
    "       \n",
    "        \n",
    "    def m(self):\n",
    "        data = {\n",
    "            \"x\":self.x,\n",
    "            \"y\":self.y\n",
    "        }\n",
    "\n",
    "        \n",
    "        \n",
    "        \n",
    "        d = pd.DataFrame(data)\n",
    "        d['xy'] = d['x']*d['y']\n",
    "        d[\"x2\"] = d[\"x\"]**2\n",
    "        self.sum_xy = d[\"xy\"].sum()\n",
    "        self.sum_x = d['x'].sum()\n",
    "        self.sum_y =d['y'].sum()\n",
    "        self.sum_x2 = d[\"x2\"].sum()\n",
    "        self.n = len(d)\n",
    "        \n",
    "        num_m = self.n*(self.sum_xy) - (self.sum_x*self.sum_y)\n",
    "        den_m = self.n*(self.sum_x2) - (self.sum_x)**2\n",
    "        self.m = num_m/den_m\n",
    "        print(self.m)\n",
    "    def b(self):\n",
    "        num_b = self.sum_y - self.m*(self.sum_x)\n",
    "        den_b = self.n\n",
    "        self.b = num_b/den_b\n",
    "        return self.b\n",
    "    \n",
    "        \n",
    "    \n",
    "        \n",
    "        \n",
    "        \n",
    "        \n",
    "    \n",
    "        \n",
    "    \n",
    "\n",
    "\n",
    "            \n",
    "\n",
    "\n",
    "        \n",
    "obj = Lregression([i for i in range(1,8)],[1.5,3.8,6.7,9.0,11.2,13.6,16])\n",
    "        \n",
    "obj.m() \n",
    "obj.b()\n",
    "\n",
    "        \n",
    "    "
   ]
  },
  {
   "cell_type": "markdown",
   "id": "165cd026",
   "metadata": {},
   "source": []
  },
  {
   "cell_type": "code",
   "execution_count": null,
   "id": "00130dc6",
   "metadata": {},
   "outputs": [],
   "source": []
  },
  {
   "cell_type": "code",
   "execution_count": null,
   "id": "fa8fb33d",
   "metadata": {},
   "outputs": [],
   "source": []
  },
  {
   "cell_type": "code",
   "execution_count": null,
   "id": "ebf02d7b",
   "metadata": {},
   "outputs": [],
   "source": []
  }
 ],
 "metadata": {
  "kernelspec": {
   "display_name": "Python 3 (ipykernel)",
   "language": "python",
   "name": "python3"
  },
  "language_info": {
   "codemirror_mode": {
    "name": "ipython",
    "version": 3
   },
   "file_extension": ".py",
   "mimetype": "text/x-python",
   "name": "python",
   "nbconvert_exporter": "python",
   "pygments_lexer": "ipython3",
   "version": "3.9.12"
  }
 },
 "nbformat": 4,
 "nbformat_minor": 5
}
