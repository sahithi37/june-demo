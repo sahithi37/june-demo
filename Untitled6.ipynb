{
 "cells": [
  {
   "cell_type": "code",
   "execution_count": 31,
   "id": "00849381",
   "metadata": {},
   "outputs": [
    {
     "data": {
      "text/plain": [
       "0"
      ]
     },
     "execution_count": 31,
     "metadata": {},
     "output_type": "execute_result"
    }
   ],
   "source": [
    "from gtts import gTTS\n",
    "from playsound import playsound\n",
    "import os\n",
    "file2 = \"sound3.mp3\"\n",
    "text = gTTS(text = \"goodnight all of you\")\n",
    "text.save(file2)\n",
    "os.system(\"start sound3.mp3\")"
   ]
  },
  {
   "cell_type": "code",
   "execution_count": 21,
   "id": "fe2d15ac",
   "metadata": {},
   "outputs": [
    {
     "data": {
      "text/plain": [
       "0"
      ]
     },
     "execution_count": 21,
     "metadata": {},
     "output_type": "execute_result"
    }
   ],
   "source": [
    "from gtts import gTTS\n",
    "from playsound import playsound\n",
    "import os\n",
    "file = \"sound1.mp3\"\n",
    "text = gTTS(text = \"Hi, goodmorning all of you\")\n",
    "text.save(file)\n",
    "os.system(\"start sound1.mp3\")"
   ]
  },
  {
   "cell_type": "code",
   "execution_count": 20,
   "id": "9ebd5d3b",
   "metadata": {},
   "outputs": [
    {
     "data": {
      "text/plain": [
       "0"
      ]
     },
     "execution_count": 20,
     "metadata": {},
     "output_type": "execute_result"
    }
   ],
   "source": [
    "from gtts import gTTS\n",
    "from playsound import playsound\n",
    "import os\n",
    "file1 = \"volume.mp3\"\n",
    "info = gTTS(text = \"good evening\")\n",
    "info.save(file1)\n",
    "os.system(\"start volume.mp3\")"
   ]
  },
  {
   "cell_type": "code",
   "execution_count": null,
   "id": "78a16de6",
   "metadata": {},
   "outputs": [],
   "source": [
    "\n",
    "import pyttsx3\n",
    "import os\n",
    "audio = pyttsx3.init()\n",
    "audio.setProperty(\"rate\",150)\n",
    "audio.setProperty(\"volume\", 1)\n",
    "audio.say(\"hi, I'm subhash\")\n",
    "audio.runAndWait()"
   ]
  },
  {
   "cell_type": "code",
   "execution_count": null,
   "id": "39272168",
   "metadata": {},
   "outputs": [],
   "source": []
  }
 ],
 "metadata": {
  "kernelspec": {
   "display_name": "Python 3 (ipykernel)",
   "language": "python",
   "name": "python3"
  },
  "language_info": {
   "codemirror_mode": {
    "name": "ipython",
    "version": 3
   },
   "file_extension": ".py",
   "mimetype": "text/x-python",
   "name": "python",
   "nbconvert_exporter": "python",
   "pygments_lexer": "ipython3",
   "version": "3.9.12"
  }
 },
 "nbformat": 4,
 "nbformat_minor": 5
}
