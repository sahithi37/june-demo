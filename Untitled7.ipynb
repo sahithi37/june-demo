{
 "cells": [
  {
   "cell_type": "code",
   "execution_count": 8,
   "id": "37bfaabd",
   "metadata": {},
   "outputs": [],
   "source": [
    "import pyttsx3\n",
    "audio = pyttsx3.init()\n",
    "audio.setProperty(\"rate\",150)\n",
    "audio.setProperty(\"volume\",0.5)\n",
    "audio.say(\"Hi, I'm subhash\")\n",
    "audio.runAndWait()"
   ]
  },
  {
   "cell_type": "code",
   "execution_count": 10,
   "id": "6ecb4189",
   "metadata": {},
   "outputs": [
    {
     "data": {
      "text/plain": [
       "0"
      ]
     },
     "execution_count": 10,
     "metadata": {},
     "output_type": "execute_result"
    }
   ],
   "source": [
    "from gtts import gTTS\n",
    "import os\n",
    "speak = \"me.mp3\"\n",
    "info1 = gTTS(\"Hello Tharun\")\n",
    "info1.save(speak)\n",
    "os.system(\"start me.mp3\")"
   ]
  },
  {
   "cell_type": "code",
   "execution_count": null,
   "id": "42a3e9fc",
   "metadata": {},
   "outputs": [],
   "source": []
  }
 ],
 "metadata": {
  "kernelspec": {
   "display_name": "Python 3 (ipykernel)",
   "language": "python",
   "name": "python3"
  },
  "language_info": {
   "codemirror_mode": {
    "name": "ipython",
    "version": 3
   },
   "file_extension": ".py",
   "mimetype": "text/x-python",
   "name": "python",
   "nbconvert_exporter": "python",
   "pygments_lexer": "ipython3",
   "version": "3.9.12"
  }
 },
 "nbformat": 4,
 "nbformat_minor": 5
}
