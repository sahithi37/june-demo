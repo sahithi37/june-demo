{
 "cells": [
  {
   "cell_type": "code",
   "execution_count": null,
   "id": "8ded20df",
   "metadata": {},
   "outputs": [],
   "source": [
    "import numpy as np\n",
    "import pandas as pd\n",
    "\n"
   ]
  },
  {
   "cell_type": "code",
   "execution_count": 5,
   "id": "7bf9a699",
   "metadata": {},
   "outputs": [
    {
     "data": {
      "text/plain": [
       "[1, 2, 3, 4, 5, 6, 7]"
      ]
     },
     "execution_count": 5,
     "metadata": {},
     "output_type": "execute_result"
    }
   ],
   "source": [
    "x = [i for i in range(1,8)]\n",
    "x"
   ]
  },
  {
   "cell_type": "code",
   "execution_count": 17,
   "id": "e66b1195",
   "metadata": {},
   "outputs": [
    {
     "data": {
      "text/html": [
       "<div>\n",
       "<style scoped>\n",
       "    .dataframe tbody tr th:only-of-type {\n",
       "        vertical-align: middle;\n",
       "    }\n",
       "\n",
       "    .dataframe tbody tr th {\n",
       "        vertical-align: top;\n",
       "    }\n",
       "\n",
       "    .dataframe thead th {\n",
       "        text-align: right;\n",
       "    }\n",
       "</style>\n",
       "<table border=\"1\" class=\"dataframe\">\n",
       "  <thead>\n",
       "    <tr style=\"text-align: right;\">\n",
       "      <th></th>\n",
       "      <th>x</th>\n",
       "      <th>y</th>\n",
       "    </tr>\n",
       "  </thead>\n",
       "  <tbody>\n",
       "    <tr>\n",
       "      <th>0</th>\n",
       "      <td>1</td>\n",
       "      <td>1.5</td>\n",
       "    </tr>\n",
       "    <tr>\n",
       "      <th>1</th>\n",
       "      <td>2</td>\n",
       "      <td>3.8</td>\n",
       "    </tr>\n",
       "    <tr>\n",
       "      <th>2</th>\n",
       "      <td>3</td>\n",
       "      <td>6.7</td>\n",
       "    </tr>\n",
       "    <tr>\n",
       "      <th>3</th>\n",
       "      <td>4</td>\n",
       "      <td>9.0</td>\n",
       "    </tr>\n",
       "    <tr>\n",
       "      <th>4</th>\n",
       "      <td>5</td>\n",
       "      <td>11.2</td>\n",
       "    </tr>\n",
       "    <tr>\n",
       "      <th>5</th>\n",
       "      <td>6</td>\n",
       "      <td>13.6</td>\n",
       "    </tr>\n",
       "    <tr>\n",
       "      <th>6</th>\n",
       "      <td>7</td>\n",
       "      <td>16.0</td>\n",
       "    </tr>\n",
       "  </tbody>\n",
       "</table>\n",
       "</div>"
      ],
      "text/plain": [
       "   x     y\n",
       "0  1   1.5\n",
       "1  2   3.8\n",
       "2  3   6.7\n",
       "3  4   9.0\n",
       "4  5  11.2\n",
       "5  6  13.6\n",
       "6  7  16.0"
      ]
     },
     "execution_count": 17,
     "metadata": {},
     "output_type": "execute_result"
    }
   ],
   "source": [
    "\n",
    "import pandas as pd\n",
    "y =[1.5,3.8,6.7,9.0,11.2,13.6,16]\n",
    "data = {\n",
    "    \"x\":x,\n",
    "    \"y\":y\n",
    "}\n",
    "\n",
    "d = pd.DataFrame(data)\n",
    "d"
   ]
  },
  {
   "cell_type": "markdown",
   "id": "9c0b3e3c",
   "metadata": {},
   "source": [
    "$$ y =mx+b $$\n"
   ]
  },
  {
   "cell_type": "markdown",
   "id": "15aed02d",
   "metadata": {},
   "source": [
    "$$Y = mX + b $$\n"
   ]
  },
  {
   "cell_type": "code",
   "execution_count": null,
   "id": "70d5ee90",
   "metadata": {},
   "outputs": [],
   "source": [
    "$$ m =\\frac{n\\sum xy - \\sum x\\sum y}{n\\sum x ^{2} - (\\sum x)^2 } $$\n"
   ]
  },
  {
   "cell_type": "code",
   "execution_count": 21,
   "id": "79ff3d84",
   "metadata": {},
   "outputs": [
    {
     "data": {
      "text/html": [
       "<div>\n",
       "<style scoped>\n",
       "    .dataframe tbody tr th:only-of-type {\n",
       "        vertical-align: middle;\n",
       "    }\n",
       "\n",
       "    .dataframe tbody tr th {\n",
       "        vertical-align: top;\n",
       "    }\n",
       "\n",
       "    .dataframe thead th {\n",
       "        text-align: right;\n",
       "    }\n",
       "</style>\n",
       "<table border=\"1\" class=\"dataframe\">\n",
       "  <thead>\n",
       "    <tr style=\"text-align: right;\">\n",
       "      <th></th>\n",
       "      <th>x</th>\n",
       "      <th>y</th>\n",
       "      <th>xy</th>\n",
       "      <th>x^2</th>\n",
       "      <th>x2</th>\n",
       "    </tr>\n",
       "  </thead>\n",
       "  <tbody>\n",
       "    <tr>\n",
       "      <th>0</th>\n",
       "      <td>1</td>\n",
       "      <td>1.5</td>\n",
       "      <td>1.5</td>\n",
       "      <td>1</td>\n",
       "      <td>1</td>\n",
       "    </tr>\n",
       "    <tr>\n",
       "      <th>1</th>\n",
       "      <td>2</td>\n",
       "      <td>3.8</td>\n",
       "      <td>7.6</td>\n",
       "      <td>4</td>\n",
       "      <td>4</td>\n",
       "    </tr>\n",
       "    <tr>\n",
       "      <th>2</th>\n",
       "      <td>3</td>\n",
       "      <td>6.7</td>\n",
       "      <td>20.1</td>\n",
       "      <td>9</td>\n",
       "      <td>9</td>\n",
       "    </tr>\n",
       "    <tr>\n",
       "      <th>3</th>\n",
       "      <td>4</td>\n",
       "      <td>9.0</td>\n",
       "      <td>36.0</td>\n",
       "      <td>16</td>\n",
       "      <td>16</td>\n",
       "    </tr>\n",
       "    <tr>\n",
       "      <th>4</th>\n",
       "      <td>5</td>\n",
       "      <td>11.2</td>\n",
       "      <td>56.0</td>\n",
       "      <td>25</td>\n",
       "      <td>25</td>\n",
       "    </tr>\n",
       "    <tr>\n",
       "      <th>5</th>\n",
       "      <td>6</td>\n",
       "      <td>13.6</td>\n",
       "      <td>81.6</td>\n",
       "      <td>36</td>\n",
       "      <td>36</td>\n",
       "    </tr>\n",
       "    <tr>\n",
       "      <th>6</th>\n",
       "      <td>7</td>\n",
       "      <td>16.0</td>\n",
       "      <td>112.0</td>\n",
       "      <td>49</td>\n",
       "      <td>49</td>\n",
       "    </tr>\n",
       "  </tbody>\n",
       "</table>\n",
       "</div>"
      ],
      "text/plain": [
       "   x     y     xy  x^2  x2\n",
       "0  1   1.5    1.5    1   1\n",
       "1  2   3.8    7.6    4   4\n",
       "2  3   6.7   20.1    9   9\n",
       "3  4   9.0   36.0   16  16\n",
       "4  5  11.2   56.0   25  25\n",
       "5  6  13.6   81.6   36  36\n",
       "6  7  16.0  112.0   49  49"
      ]
     },
     "execution_count": 21,
     "metadata": {},
     "output_type": "execute_result"
    }
   ],
   "source": [
    "d['xy'] = d['x']*d['y']\n",
    "d[\"x2\"] = d[\"x\"]**2\n",
    "n = len(d)\n",
    "\n",
    "d"
   ]
  },
  {
   "cell_type": "code",
   "execution_count": 12,
   "id": "e155fe15",
   "metadata": {},
   "outputs": [
    {
     "data": {
      "text/plain": [
       "7"
      ]
     },
     "execution_count": 12,
     "metadata": {},
     "output_type": "execute_result"
    }
   ],
   "source": [
    "n"
   ]
  },
  {
   "cell_type": "code",
   "execution_count": 19,
   "id": "5e044d08",
   "metadata": {},
   "outputs": [
    {
     "data": {
      "text/plain": [
       "314.8"
      ]
     },
     "execution_count": 19,
     "metadata": {},
     "output_type": "execute_result"
    }
   ],
   "source": [
    "sum_xy = d[\"xy\"].sum()\n",
    "sum_xy"
   ]
  },
  {
   "cell_type": "code",
   "execution_count": 23,
   "id": "df5dfe32",
   "metadata": {},
   "outputs": [],
   "source": [
    "sum_x = d['x'].sum()\n",
    "sum_y =d['y'].sum()\n",
    "sum_x2 = d[\"x2\"].sum()\n"
   ]
  },
  {
   "cell_type": "code",
   "execution_count": 2,
   "id": "70cea4e7",
   "metadata": {},
   "outputs": [
    {
     "ename": "NameError",
     "evalue": "name 'sum_xy' is not defined",
     "output_type": "error",
     "traceback": [
      "\u001b[1;31m---------------------------------------------------------------------------\u001b[0m",
      "\u001b[1;31mNameError\u001b[0m                                 Traceback (most recent call last)",
      "Input \u001b[1;32mIn [2]\u001b[0m, in \u001b[0;36m<cell line: 1>\u001b[1;34m()\u001b[0m\n\u001b[1;32m----> 1\u001b[0m num_m \u001b[38;5;241m=\u001b[39m \u001b[38;5;241m7\u001b[39m\u001b[38;5;241m*\u001b[39m(\u001b[43msum_xy\u001b[49m) \u001b[38;5;241m-\u001b[39m (sum_x\u001b[38;5;241m*\u001b[39msum_y)\n\u001b[0;32m      2\u001b[0m den_m \u001b[38;5;241m=\u001b[39m \u001b[38;5;241m7\u001b[39m\u001b[38;5;241m*\u001b[39m(sum_x2) \u001b[38;5;241m-\u001b[39m (sum_x)\u001b[38;5;241m*\u001b[39m\u001b[38;5;241m*\u001b[39m\u001b[38;5;241m2\u001b[39m\n\u001b[0;32m      3\u001b[0m m \u001b[38;5;241m=\u001b[39m num_m\u001b[38;5;241m/\u001b[39mden_m\n",
      "\u001b[1;31mNameError\u001b[0m: name 'sum_xy' is not defined"
     ]
    }
   ],
   "source": [
    "num_m = n*(sum_xy) - (sum_x*sum_y)\n",
    "den_m = n*(sum_x2) - (sum_x)**2\n",
    "m = num_m/den_m"
   ]
  },
  {
   "cell_type": "markdown",
   "id": "810fdff4",
   "metadata": {},
   "source": [
    "$$b = \\frac{\\sum y - m \\sum x }{n} $$"
   ]
  },
  {
   "cell_type": "markdown",
   "id": "be78d87f",
   "metadata": {},
   "source": [
    "num_b = sum_y - m*(sum_x)\n",
    "den_b = n\n",
    "b = num_b/den_b\n",
    "b"
   ]
  },
  {
   "cell_type": "code",
   "execution_count": 26,
   "id": "eef143cd",
   "metadata": {},
   "outputs": [
    {
     "data": {
      "text/plain": [
       "-0.8285714285714231"
      ]
     },
     "execution_count": 26,
     "metadata": {},
     "output_type": "execute_result"
    }
   ],
   "source": [
    "num_b = sum_y - m*(sum_x)\n",
    "den_b = n\n",
    "b = num_b/den_b\n",
    "b"
   ]
  },
  {
   "cell_type": "code",
   "execution_count": 27,
   "id": "a40fb2dd",
   "metadata": {},
   "outputs": [
    {
     "data": {
      "text/plain": [
       "[1.5857142857142903,\n",
       " 4.0000000000000036,\n",
       " 6.414285714285717,\n",
       " 8.82857142857143,\n",
       " 11.242857142857142,\n",
       " 13.657142857142857,\n",
       " 16.07142857142857]"
      ]
     },
     "execution_count": 27,
     "metadata": {},
     "output_type": "execute_result"
    }
   ],
   "source": [
    "y = [m*x+b for x in d['x']]\n",
    "y"
   ]
  },
  {
   "cell_type": "code",
   "execution_count": 32,
   "id": "5ed26ec7",
   "metadata": {},
   "outputs": [
    {
     "data": {
      "text/plain": [
       "[1.5857142857142903,\n",
       " 4.0000000000000036,\n",
       " 6.414285714285717,\n",
       " 8.82857142857143,\n",
       " 11.242857142857142,\n",
       " 13.657142857142857,\n",
       " 16.07142857142857,\n",
       " 18.485714285714284,\n",
       " 20.9,\n",
       " 23.31428571428571,\n",
       " 25.728571428571424]"
      ]
     },
     "execution_count": 32,
     "metadata": {},
     "output_type": "execute_result"
    }
   ],
   "source": [
    "yf = [m*x+b for x in range(8,12)]\n",
    "yf\n",
    "y = y +yf\n",
    "y"
   ]
  },
  {
   "cell_type": "code",
   "execution_count": 35,
   "id": "1494ab39",
   "metadata": {},
   "outputs": [
    {
     "data": {
      "image/png": "[encoded data removed]",
      "text/plain": [
       "<Figure size 432x288 with 1 Axes>"
      ]
     },
     "metadata": {
      "needs_background": "light"
     },
     "output_type": "display_data"
    }
   ],
   "source": [
    "from matplotlib import pyplot as plt\n",
    "plt.scatter(d['x'],d['y'])\n",
    "plt.plot( [i for i in range(1,12)],y,c='r')\n",
    "plt.scatter([i for i in range(8,12)],yf)\n",
    "plt.show()"
   ]
  },
  {
   "cell_type": "code",
   "execution_count": null,
   "id": "e358a1db",
   "metadata": {},
   "outputs": [],
   "source": []
  }
 ],
 "metadata": {
  "kernelspec": {
   "display_name": "Python 3 (ipykernel)",
   "language": "python",
   "name": "python3"
  },
  "language_info": {
   "codemirror_mode": {
    "name": "ipython",
    "version": 3
   },
   "file_extension": ".py",
   "mimetype": "text/x-python",
   "name": "python",
   "nbconvert_exporter": "python",
   "pygments_lexer": "ipython3",
   "version": "3.9.12"
  }
 },
 "nbformat": 4,
 "nbformat_minor": 5
}
